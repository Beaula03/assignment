{
  "nbformat": 4,
  "nbformat_minor": 0,
  "metadata": {
    "colab": {
      "provenance": []
    },
    "kernelspec": {
      "name": "python3",
      "display_name": "Python 3"
    },
    "language_info": {
      "name": "python"
    }
  },
  "cells": [
    {
      "cell_type": "code",
      "execution_count": 1,
      "metadata": {
        "id": "AbWaIuuUJWlG"
      },
      "outputs": [],
      "source": [
        "# importing required libraries\n",
        "\n",
        "import pandas as pd\n",
        "import numpy as np\n",
        "import matplotlib.pyplot as plt\n",
        "import seaborn as sns"
      ]
    },
    {
      "cell_type": "code",
      "source": [
        "from google.colab import drive\n",
        "drive.mount('/content/drive')"
      ],
      "metadata": {
        "id": "g2ge1iMKLnLu",
        "colab": {
          "base_uri": "https://localhost:8080/"
        },
        "outputId": "2ea71548-f23d-4a30-f7ee-7c921e0886d6"
      },
      "execution_count": null,
      "outputs": [
        {
          "output_type": "stream",
          "name": "stdout",
          "text": [
            "Mounted at /content/drive\n"
          ]
        }
      ]
    },
    {
      "cell_type": "markdown",
      "source": [
        "#Preprocess the Dataset"
      ],
      "metadata": {
        "id": "IBDBRwVU-Qol"
      }
    },
    {
      "cell_type": "code",
      "source": [
        "df = pd.read_csv('/content/drive/MyDrive/archive/House Price India.csv')\n",
        "df.head()"
      ],
      "metadata": {
        "colab": {
          "base_uri": "https://localhost:8080/",
          "height": 314
        },
        "id": "u3PkC1C0L4cH",
        "outputId": "b58ea50e-a82e-4f22-ae7a-27317676e713"
      },
      "execution_count": null,
      "outputs": [
        {
          "output_type": "execute_result",
          "data": {
            "text/plain": [
              "           id   Date  number of bedrooms  number of bathrooms  living area  \\\n",
              "0  6762810145  42491                   5                 2.50         3650   \n",
              "1  6762810635  42491                   4                 2.50         2920   \n",
              "2  6762810998  42491                   5                 2.75         2910   \n",
              "3  6762812605  42491                   4                 2.50         3310   \n",
              "4  6762812919  42491                   3                 2.00         2710   \n",
              "\n",
              "   lot area  number of floors  waterfront present  number of views  \\\n",
              "0      9050               2.0                   0                4   \n",
              "1      4000               1.5                   0                0   \n",
              "2      9480               1.5                   0                0   \n",
              "3     42998               2.0                   0                0   \n",
              "4      4500               1.5                   0                0   \n",
              "\n",
              "   condition of the house  ...  Built Year  Renovation Year  Postal Code  \\\n",
              "0                       5  ...        1921                0       122003   \n",
              "1                       5  ...        1909                0       122004   \n",
              "2                       3  ...        1939                0       122004   \n",
              "3                       3  ...        2001                0       122005   \n",
              "4                       4  ...        1929                0       122006   \n",
              "\n",
              "   Lattitude  Longitude  living_area_renov  lot_area_renov  \\\n",
              "0    52.8645   -114.557               2880            5400   \n",
              "1    52.8878   -114.470               2470            4000   \n",
              "2    52.8852   -114.468               2940            6600   \n",
              "3    52.9532   -114.321               3350           42847   \n",
              "4    52.9047   -114.485               2060            4500   \n",
              "\n",
              "   Number of schools nearby  Distance from the airport    Price  \n",
              "0                         2                         58  2380000  \n",
              "1                         2                         51  1400000  \n",
              "2                         1                         53  1200000  \n",
              "3                         3                         76   838000  \n",
              "4                         1                         51   805000  \n",
              "\n",
              "[5 rows x 23 columns]"
            ],
            "text/html": [
              "\n",
              "  <div id=\"df-82855262-6658-4a40-bcc3-a4648bc5dbaa\">\n",
              "    <div class=\"colab-df-container\">\n",
              "      <div>\n",
              "<style scoped>\n",
              "    .dataframe tbody tr th:only-of-type {\n",
              "        vertical-align: middle;\n",
              "    }\n",
              "\n",
              "    .dataframe tbody tr th {\n",
              "        vertical-align: top;\n",
              "    }\n",
              "\n",
              "    .dataframe thead th {\n",
              "        text-align: right;\n",
              "    }\n",
              "</style>\n",
              "<table border=\"1\" class=\"dataframe\">\n",
              "  <thead>\n",
              "    <tr style=\"text-align: right;\">\n",
              "      <th></th>\n",
              "      <th>id</th>\n",
              "      <th>Date</th>\n",
              "      <th>number of bedrooms</th>\n",
              "      <th>number of bathrooms</th>\n",
              "      <th>living area</th>\n",
              "      <th>lot area</th>\n",
              "      <th>number of floors</th>\n",
              "      <th>waterfront present</th>\n",
              "      <th>number of views</th>\n",
              "      <th>condition of the house</th>\n",
              "      <th>...</th>\n",
              "      <th>Built Year</th>\n",
              "      <th>Renovation Year</th>\n",
              "      <th>Postal Code</th>\n",
              "      <th>Lattitude</th>\n",
              "      <th>Longitude</th>\n",
              "      <th>living_area_renov</th>\n",
              "      <th>lot_area_renov</th>\n",
              "      <th>Number of schools nearby</th>\n",
              "      <th>Distance from the airport</th>\n",
              "      <th>Price</th>\n",
              "    </tr>\n",
              "  </thead>\n",
              "  <tbody>\n",
              "    <tr>\n",
              "      <th>0</th>\n",
              "      <td>6762810145</td>\n",
              "      <td>42491</td>\n",
              "      <td>5</td>\n",
              "      <td>2.50</td>\n",
              "      <td>3650</td>\n",
              "      <td>9050</td>\n",
              "      <td>2.0</td>\n",
              "      <td>0</td>\n",
              "      <td>4</td>\n",
              "      <td>5</td>\n",
              "      <td>...</td>\n",
              "      <td>1921</td>\n",
              "      <td>0</td>\n",
              "      <td>122003</td>\n",
              "      <td>52.8645</td>\n",
              "      <td>-114.557</td>\n",
              "      <td>2880</td>\n",
              "      <td>5400</td>\n",
              "      <td>2</td>\n",
              "      <td>58</td>\n",
              "      <td>2380000</td>\n",
              "    </tr>\n",
              "    <tr>\n",
              "      <th>1</th>\n",
              "      <td>6762810635</td>\n",
              "      <td>42491</td>\n",
              "      <td>4</td>\n",
              "      <td>2.50</td>\n",
              "      <td>2920</td>\n",
              "      <td>4000</td>\n",
              "      <td>1.5</td>\n",
              "      <td>0</td>\n",
              "      <td>0</td>\n",
              "      <td>5</td>\n",
              "      <td>...</td>\n",
              "      <td>1909</td>\n",
              "      <td>0</td>\n",
              "      <td>122004</td>\n",
              "      <td>52.8878</td>\n",
              "      <td>-114.470</td>\n",
              "      <td>2470</td>\n",
              "      <td>4000</td>\n",
              "      <td>2</td>\n",
              "      <td>51</td>\n",
              "      <td>1400000</td>\n",
              "    </tr>\n",
              "    <tr>\n",
              "      <th>2</th>\n",
              "      <td>6762810998</td>\n",
              "      <td>42491</td>\n",
              "      <td>5</td>\n",
              "      <td>2.75</td>\n",
              "      <td>2910</td>\n",
              "      <td>9480</td>\n",
              "      <td>1.5</td>\n",
              "      <td>0</td>\n",
              "      <td>0</td>\n",
              "      <td>3</td>\n",
              "      <td>...</td>\n",
              "      <td>1939</td>\n",
              "      <td>0</td>\n",
              "      <td>122004</td>\n",
              "      <td>52.8852</td>\n",
              "      <td>-114.468</td>\n",
              "      <td>2940</td>\n",
              "      <td>6600</td>\n",
              "      <td>1</td>\n",
              "      <td>53</td>\n",
              "      <td>1200000</td>\n",
              "    </tr>\n",
              "    <tr>\n",
              "      <th>3</th>\n",
              "      <td>6762812605</td>\n",
              "      <td>42491</td>\n",
              "      <td>4</td>\n",
              "      <td>2.50</td>\n",
              "      <td>3310</td>\n",
              "      <td>42998</td>\n",
              "      <td>2.0</td>\n",
              "      <td>0</td>\n",
              "      <td>0</td>\n",
              "      <td>3</td>\n",
              "      <td>...</td>\n",
              "      <td>2001</td>\n",
              "      <td>0</td>\n",
              "      <td>122005</td>\n",
              "      <td>52.9532</td>\n",
              "      <td>-114.321</td>\n",
              "      <td>3350</td>\n",
              "      <td>42847</td>\n",
              "      <td>3</td>\n",
              "      <td>76</td>\n",
              "      <td>838000</td>\n",
              "    </tr>\n",
              "    <tr>\n",
              "      <th>4</th>\n",
              "      <td>6762812919</td>\n",
              "      <td>42491</td>\n",
              "      <td>3</td>\n",
              "      <td>2.00</td>\n",
              "      <td>2710</td>\n",
              "      <td>4500</td>\n",
              "      <td>1.5</td>\n",
              "      <td>0</td>\n",
              "      <td>0</td>\n",
              "      <td>4</td>\n",
              "      <td>...</td>\n",
              "      <td>1929</td>\n",
              "      <td>0</td>\n",
              "      <td>122006</td>\n",
              "      <td>52.9047</td>\n",
              "      <td>-114.485</td>\n",
              "      <td>2060</td>\n",
              "      <td>4500</td>\n",
              "      <td>1</td>\n",
              "      <td>51</td>\n",
              "      <td>805000</td>\n",
              "    </tr>\n",
              "  </tbody>\n",
              "</table>\n",
              "<p>5 rows × 23 columns</p>\n",
              "</div>\n",
              "      <button class=\"colab-df-convert\" onclick=\"convertToInteractive('df-82855262-6658-4a40-bcc3-a4648bc5dbaa')\"\n",
              "              title=\"Convert this dataframe to an interactive table.\"\n",
              "              style=\"display:none;\">\n",
              "        \n",
              "  <svg xmlns=\"http://www.w3.org/2000/svg\" height=\"24px\"viewBox=\"0 0 24 24\"\n",
              "       width=\"24px\">\n",
              "    <path d=\"M0 0h24v24H0V0z\" fill=\"none\"/>\n",
              "    <path d=\"M18.56 5.44l.94 2.06.94-2.06 2.06-.94-2.06-.94-.94-2.06-.94 2.06-2.06.94zm-11 1L8.5 8.5l.94-2.06 2.06-.94-2.06-.94L8.5 2.5l-.94 2.06-2.06.94zm10 10l.94 2.06.94-2.06 2.06-.94-2.06-.94-.94-2.06-.94 2.06-2.06.94z\"/><path d=\"M17.41 7.96l-1.37-1.37c-.4-.4-.92-.59-1.43-.59-.52 0-1.04.2-1.43.59L10.3 9.45l-7.72 7.72c-.78.78-.78 2.05 0 2.83L4 21.41c.39.39.9.59 1.41.59.51 0 1.02-.2 1.41-.59l7.78-7.78 2.81-2.81c.8-.78.8-2.07 0-2.86zM5.41 20L4 18.59l7.72-7.72 1.47 1.35L5.41 20z\"/>\n",
              "  </svg>\n",
              "      </button>\n",
              "      \n",
              "  <style>\n",
              "    .colab-df-container {\n",
              "      display:flex;\n",
              "      flex-wrap:wrap;\n",
              "      gap: 12px;\n",
              "    }\n",
              "\n",
              "    .colab-df-convert {\n",
              "      background-color: #E8F0FE;\n",
              "      border: none;\n",
              "      border-radius: 50%;\n",
              "      cursor: pointer;\n",
              "      display: none;\n",
              "      fill: #1967D2;\n",
              "      height: 32px;\n",
              "      padding: 0 0 0 0;\n",
              "      width: 32px;\n",
              "    }\n",
              "\n",
              "    .colab-df-convert:hover {\n",
              "      background-color: #E2EBFA;\n",
              "      box-shadow: 0px 1px 2px rgba(60, 64, 67, 0.3), 0px 1px 3px 1px rgba(60, 64, 67, 0.15);\n",
              "      fill: #174EA6;\n",
              "    }\n",
              "\n",
              "    [theme=dark] .colab-df-convert {\n",
              "      background-color: #3B4455;\n",
              "      fill: #D2E3FC;\n",
              "    }\n",
              "\n",
              "    [theme=dark] .colab-df-convert:hover {\n",
              "      background-color: #434B5C;\n",
              "      box-shadow: 0px 1px 3px 1px rgba(0, 0, 0, 0.15);\n",
              "      filter: drop-shadow(0px 1px 2px rgba(0, 0, 0, 0.3));\n",
              "      fill: #FFFFFF;\n",
              "    }\n",
              "  </style>\n",
              "\n",
              "      <script>\n",
              "        const buttonEl =\n",
              "          document.querySelector('#df-82855262-6658-4a40-bcc3-a4648bc5dbaa button.colab-df-convert');\n",
              "        buttonEl.style.display =\n",
              "          google.colab.kernel.accessAllowed ? 'block' : 'none';\n",
              "\n",
              "        async function convertToInteractive(key) {\n",
              "          const element = document.querySelector('#df-82855262-6658-4a40-bcc3-a4648bc5dbaa');\n",
              "          const dataTable =\n",
              "            await google.colab.kernel.invokeFunction('convertToInteractive',\n",
              "                                                     [key], {});\n",
              "          if (!dataTable) return;\n",
              "\n",
              "          const docLinkHtml = 'Like what you see? Visit the ' +\n",
              "            '<a target=\"_blank\" href=https://colab.research.google.com/notebooks/data_table.ipynb>data table notebook</a>'\n",
              "            + ' to learn more about interactive tables.';\n",
              "          element.innerHTML = '';\n",
              "          dataTable['output_type'] = 'display_data';\n",
              "          await google.colab.output.renderOutput(dataTable, element);\n",
              "          const docLink = document.createElement('div');\n",
              "          docLink.innerHTML = docLinkHtml;\n",
              "          element.appendChild(docLink);\n",
              "        }\n",
              "      </script>\n",
              "    </div>\n",
              "  </div>\n",
              "  "
            ]
          },
          "metadata": {},
          "execution_count": 8
        }
      ]
    },
    {
      "cell_type": "code",
      "source": [
        "df.shape"
      ],
      "metadata": {
        "colab": {
          "base_uri": "https://localhost:8080/"
        },
        "id": "UqFrubTKMZMD",
        "outputId": "f4e93d39-7b15-4d90-e308-f3907a87e30b"
      },
      "execution_count": null,
      "outputs": [
        {
          "output_type": "execute_result",
          "data": {
            "text/plain": [
              "(14620, 23)"
            ]
          },
          "metadata": {},
          "execution_count": 9
        }
      ]
    },
    {
      "cell_type": "code",
      "source": [
        "df.isnull().sum()"
      ],
      "metadata": {
        "colab": {
          "base_uri": "https://localhost:8080/"
        },
        "id": "jmzSKYJJPSKg",
        "outputId": "10b814b5-52ef-48f2-fd76-c5546133b5f7"
      },
      "execution_count": null,
      "outputs": [
        {
          "output_type": "execute_result",
          "data": {
            "text/plain": [
              "id                                       0\n",
              "Date                                     0\n",
              "number of bedrooms                       0\n",
              "number of bathrooms                      0\n",
              "living area                              0\n",
              "lot area                                 0\n",
              "number of floors                         0\n",
              "waterfront present                       0\n",
              "number of views                          0\n",
              "condition of the house                   0\n",
              "grade of the house                       0\n",
              "Area of the house(excluding basement)    0\n",
              "Area of the basement                     0\n",
              "Built Year                               0\n",
              "Renovation Year                          0\n",
              "Postal Code                              0\n",
              "Lattitude                                0\n",
              "Longitude                                0\n",
              "living_area_renov                        0\n",
              "lot_area_renov                           0\n",
              "Number of schools nearby                 0\n",
              "Distance from the airport                0\n",
              "Price                                    0\n",
              "dtype: int64"
            ]
          },
          "metadata": {},
          "execution_count": 10
        }
      ]
    },
    {
      "cell_type": "code",
      "source": [
        "df.info()"
      ],
      "metadata": {
        "colab": {
          "base_uri": "https://localhost:8080/"
        },
        "id": "TwrNS96GMgil",
        "outputId": "f34d10d9-dff8-4d59-bee5-beaabd616d63"
      },
      "execution_count": null,
      "outputs": [
        {
          "output_type": "stream",
          "name": "stdout",
          "text": [
            "<class 'pandas.core.frame.DataFrame'>\n",
            "RangeIndex: 14620 entries, 0 to 14619\n",
            "Data columns (total 23 columns):\n",
            " #   Column                                 Non-Null Count  Dtype  \n",
            "---  ------                                 --------------  -----  \n",
            " 0   id                                     14620 non-null  int64  \n",
            " 1   Date                                   14620 non-null  int64  \n",
            " 2   number of bedrooms                     14620 non-null  int64  \n",
            " 3   number of bathrooms                    14620 non-null  float64\n",
            " 4   living area                            14620 non-null  int64  \n",
            " 5   lot area                               14620 non-null  int64  \n",
            " 6   number of floors                       14620 non-null  float64\n",
            " 7   waterfront present                     14620 non-null  int64  \n",
            " 8   number of views                        14620 non-null  int64  \n",
            " 9   condition of the house                 14620 non-null  int64  \n",
            " 10  grade of the house                     14620 non-null  int64  \n",
            " 11  Area of the house(excluding basement)  14620 non-null  int64  \n",
            " 12  Area of the basement                   14620 non-null  int64  \n",
            " 13  Built Year                             14620 non-null  int64  \n",
            " 14  Renovation Year                        14620 non-null  int64  \n",
            " 15  Postal Code                            14620 non-null  int64  \n",
            " 16  Lattitude                              14620 non-null  float64\n",
            " 17  Longitude                              14620 non-null  float64\n",
            " 18  living_area_renov                      14620 non-null  int64  \n",
            " 19  lot_area_renov                         14620 non-null  int64  \n",
            " 20  Number of schools nearby               14620 non-null  int64  \n",
            " 21  Distance from the airport              14620 non-null  int64  \n",
            " 22  Price                                  14620 non-null  int64  \n",
            "dtypes: float64(4), int64(19)\n",
            "memory usage: 2.6 MB\n"
          ]
        }
      ]
    },
    {
      "cell_type": "code",
      "source": [
        "from sklearn.preprocessing import LabelEncoder"
      ],
      "metadata": {
        "id": "F4Cyg_ZHx5nR"
      },
      "execution_count": null,
      "outputs": []
    },
    {
      "cell_type": "code",
      "source": [
        "# Initializing encoder\n",
        "\n",
        "le = LabelEncoder()\n",
        "     "
      ],
      "metadata": {
        "id": "3C2Q0nr8xpKF"
      },
      "execution_count": null,
      "outputs": []
    },
    {
      "cell_type": "markdown",
      "source": [
        "# convert the string type to int type"
      ],
      "metadata": {
        "id": "gn-JvFDj9L3S"
      }
    },
    {
      "cell_type": "code",
      "source": [
        "df['number of bedrooms'] = le.fit_transform(df['number of bedrooms'])\n",
        "     "
      ],
      "metadata": {
        "id": "4XKqtfDODx9u"
      },
      "execution_count": null,
      "outputs": []
    },
    {
      "cell_type": "code",
      "source": [
        "df.drop(['number of bedrooms','Date'],axis =1,inplace =True)   "
      ],
      "metadata": {
        "id": "3FpUq7nyETfq"
      },
      "execution_count": null,
      "outputs": []
    },
    {
      "cell_type": "code",
      "source": [
        "df.head()\n",
        "     "
      ],
      "metadata": {
        "colab": {
          "base_uri": "https://localhost:8080/",
          "height": 332
        },
        "id": "hLntse_6QhSQ",
        "outputId": "3f00ffea-da33-4a12-b3c8-15c266ea0d0f"
      },
      "execution_count": null,
      "outputs": [
        {
          "output_type": "execute_result",
          "data": {
            "text/plain": [
              "           id  number of bathrooms  living area  lot area  number of floors  \\\n",
              "0  6762810145                 2.50         3650      9050               2.0   \n",
              "1  6762810635                 2.50         2920      4000               1.5   \n",
              "2  6762810998                 2.75         2910      9480               1.5   \n",
              "3  6762812605                 2.50         3310     42998               2.0   \n",
              "4  6762812919                 2.00         2710      4500               1.5   \n",
              "\n",
              "   waterfront present  number of views  condition of the house  \\\n",
              "0                   0                4                       5   \n",
              "1                   0                0                       5   \n",
              "2                   0                0                       3   \n",
              "3                   0                0                       3   \n",
              "4                   0                0                       4   \n",
              "\n",
              "   grade of the house  Area of the house(excluding basement)  ...  Built Year  \\\n",
              "0                  10                                   3370  ...        1921   \n",
              "1                   8                                   1910  ...        1909   \n",
              "2                   8                                   2910  ...        1939   \n",
              "3                   9                                   3310  ...        2001   \n",
              "4                   8                                   1880  ...        1929   \n",
              "\n",
              "   Renovation Year  Postal Code  Lattitude  Longitude  living_area_renov  \\\n",
              "0                0       122003    52.8645   -114.557               2880   \n",
              "1                0       122004    52.8878   -114.470               2470   \n",
              "2                0       122004    52.8852   -114.468               2940   \n",
              "3                0       122005    52.9532   -114.321               3350   \n",
              "4                0       122006    52.9047   -114.485               2060   \n",
              "\n",
              "   lot_area_renov  Number of schools nearby  Distance from the airport  \\\n",
              "0            5400                         2                         58   \n",
              "1            4000                         2                         51   \n",
              "2            6600                         1                         53   \n",
              "3           42847                         3                         76   \n",
              "4            4500                         1                         51   \n",
              "\n",
              "     Price  \n",
              "0  2380000  \n",
              "1  1400000  \n",
              "2  1200000  \n",
              "3   838000  \n",
              "4   805000  \n",
              "\n",
              "[5 rows x 21 columns]"
            ],
            "text/html": [
              "\n",
              "  <div id=\"df-2f89a5dc-e2c1-429c-8e1c-9b45bf609f9c\">\n",
              "    <div class=\"colab-df-container\">\n",
              "      <div>\n",
              "<style scoped>\n",
              "    .dataframe tbody tr th:only-of-type {\n",
              "        vertical-align: middle;\n",
              "    }\n",
              "\n",
              "    .dataframe tbody tr th {\n",
              "        vertical-align: top;\n",
              "    }\n",
              "\n",
              "    .dataframe thead th {\n",
              "        text-align: right;\n",
              "    }\n",
              "</style>\n",
              "<table border=\"1\" class=\"dataframe\">\n",
              "  <thead>\n",
              "    <tr style=\"text-align: right;\">\n",
              "      <th></th>\n",
              "      <th>id</th>\n",
              "      <th>number of bathrooms</th>\n",
              "      <th>living area</th>\n",
              "      <th>lot area</th>\n",
              "      <th>number of floors</th>\n",
              "      <th>waterfront present</th>\n",
              "      <th>number of views</th>\n",
              "      <th>condition of the house</th>\n",
              "      <th>grade of the house</th>\n",
              "      <th>Area of the house(excluding basement)</th>\n",
              "      <th>...</th>\n",
              "      <th>Built Year</th>\n",
              "      <th>Renovation Year</th>\n",
              "      <th>Postal Code</th>\n",
              "      <th>Lattitude</th>\n",
              "      <th>Longitude</th>\n",
              "      <th>living_area_renov</th>\n",
              "      <th>lot_area_renov</th>\n",
              "      <th>Number of schools nearby</th>\n",
              "      <th>Distance from the airport</th>\n",
              "      <th>Price</th>\n",
              "    </tr>\n",
              "  </thead>\n",
              "  <tbody>\n",
              "    <tr>\n",
              "      <th>0</th>\n",
              "      <td>6762810145</td>\n",
              "      <td>2.50</td>\n",
              "      <td>3650</td>\n",
              "      <td>9050</td>\n",
              "      <td>2.0</td>\n",
              "      <td>0</td>\n",
              "      <td>4</td>\n",
              "      <td>5</td>\n",
              "      <td>10</td>\n",
              "      <td>3370</td>\n",
              "      <td>...</td>\n",
              "      <td>1921</td>\n",
              "      <td>0</td>\n",
              "      <td>122003</td>\n",
              "      <td>52.8645</td>\n",
              "      <td>-114.557</td>\n",
              "      <td>2880</td>\n",
              "      <td>5400</td>\n",
              "      <td>2</td>\n",
              "      <td>58</td>\n",
              "      <td>2380000</td>\n",
              "    </tr>\n",
              "    <tr>\n",
              "      <th>1</th>\n",
              "      <td>6762810635</td>\n",
              "      <td>2.50</td>\n",
              "      <td>2920</td>\n",
              "      <td>4000</td>\n",
              "      <td>1.5</td>\n",
              "      <td>0</td>\n",
              "      <td>0</td>\n",
              "      <td>5</td>\n",
              "      <td>8</td>\n",
              "      <td>1910</td>\n",
              "      <td>...</td>\n",
              "      <td>1909</td>\n",
              "      <td>0</td>\n",
              "      <td>122004</td>\n",
              "      <td>52.8878</td>\n",
              "      <td>-114.470</td>\n",
              "      <td>2470</td>\n",
              "      <td>4000</td>\n",
              "      <td>2</td>\n",
              "      <td>51</td>\n",
              "      <td>1400000</td>\n",
              "    </tr>\n",
              "    <tr>\n",
              "      <th>2</th>\n",
              "      <td>6762810998</td>\n",
              "      <td>2.75</td>\n",
              "      <td>2910</td>\n",
              "      <td>9480</td>\n",
              "      <td>1.5</td>\n",
              "      <td>0</td>\n",
              "      <td>0</td>\n",
              "      <td>3</td>\n",
              "      <td>8</td>\n",
              "      <td>2910</td>\n",
              "      <td>...</td>\n",
              "      <td>1939</td>\n",
              "      <td>0</td>\n",
              "      <td>122004</td>\n",
              "      <td>52.8852</td>\n",
              "      <td>-114.468</td>\n",
              "      <td>2940</td>\n",
              "      <td>6600</td>\n",
              "      <td>1</td>\n",
              "      <td>53</td>\n",
              "      <td>1200000</td>\n",
              "    </tr>\n",
              "    <tr>\n",
              "      <th>3</th>\n",
              "      <td>6762812605</td>\n",
              "      <td>2.50</td>\n",
              "      <td>3310</td>\n",
              "      <td>42998</td>\n",
              "      <td>2.0</td>\n",
              "      <td>0</td>\n",
              "      <td>0</td>\n",
              "      <td>3</td>\n",
              "      <td>9</td>\n",
              "      <td>3310</td>\n",
              "      <td>...</td>\n",
              "      <td>2001</td>\n",
              "      <td>0</td>\n",
              "      <td>122005</td>\n",
              "      <td>52.9532</td>\n",
              "      <td>-114.321</td>\n",
              "      <td>3350</td>\n",
              "      <td>42847</td>\n",
              "      <td>3</td>\n",
              "      <td>76</td>\n",
              "      <td>838000</td>\n",
              "    </tr>\n",
              "    <tr>\n",
              "      <th>4</th>\n",
              "      <td>6762812919</td>\n",
              "      <td>2.00</td>\n",
              "      <td>2710</td>\n",
              "      <td>4500</td>\n",
              "      <td>1.5</td>\n",
              "      <td>0</td>\n",
              "      <td>0</td>\n",
              "      <td>4</td>\n",
              "      <td>8</td>\n",
              "      <td>1880</td>\n",
              "      <td>...</td>\n",
              "      <td>1929</td>\n",
              "      <td>0</td>\n",
              "      <td>122006</td>\n",
              "      <td>52.9047</td>\n",
              "      <td>-114.485</td>\n",
              "      <td>2060</td>\n",
              "      <td>4500</td>\n",
              "      <td>1</td>\n",
              "      <td>51</td>\n",
              "      <td>805000</td>\n",
              "    </tr>\n",
              "  </tbody>\n",
              "</table>\n",
              "<p>5 rows × 21 columns</p>\n",
              "</div>\n",
              "      <button class=\"colab-df-convert\" onclick=\"convertToInteractive('df-2f89a5dc-e2c1-429c-8e1c-9b45bf609f9c')\"\n",
              "              title=\"Convert this dataframe to an interactive table.\"\n",
              "              style=\"display:none;\">\n",
              "        \n",
              "  <svg xmlns=\"http://www.w3.org/2000/svg\" height=\"24px\"viewBox=\"0 0 24 24\"\n",
              "       width=\"24px\">\n",
              "    <path d=\"M0 0h24v24H0V0z\" fill=\"none\"/>\n",
              "    <path d=\"M18.56 5.44l.94 2.06.94-2.06 2.06-.94-2.06-.94-.94-2.06-.94 2.06-2.06.94zm-11 1L8.5 8.5l.94-2.06 2.06-.94-2.06-.94L8.5 2.5l-.94 2.06-2.06.94zm10 10l.94 2.06.94-2.06 2.06-.94-2.06-.94-.94-2.06-.94 2.06-2.06.94z\"/><path d=\"M17.41 7.96l-1.37-1.37c-.4-.4-.92-.59-1.43-.59-.52 0-1.04.2-1.43.59L10.3 9.45l-7.72 7.72c-.78.78-.78 2.05 0 2.83L4 21.41c.39.39.9.59 1.41.59.51 0 1.02-.2 1.41-.59l7.78-7.78 2.81-2.81c.8-.78.8-2.07 0-2.86zM5.41 20L4 18.59l7.72-7.72 1.47 1.35L5.41 20z\"/>\n",
              "  </svg>\n",
              "      </button>\n",
              "      \n",
              "  <style>\n",
              "    .colab-df-container {\n",
              "      display:flex;\n",
              "      flex-wrap:wrap;\n",
              "      gap: 12px;\n",
              "    }\n",
              "\n",
              "    .colab-df-convert {\n",
              "      background-color: #E8F0FE;\n",
              "      border: none;\n",
              "      border-radius: 50%;\n",
              "      cursor: pointer;\n",
              "      display: none;\n",
              "      fill: #1967D2;\n",
              "      height: 32px;\n",
              "      padding: 0 0 0 0;\n",
              "      width: 32px;\n",
              "    }\n",
              "\n",
              "    .colab-df-convert:hover {\n",
              "      background-color: #E2EBFA;\n",
              "      box-shadow: 0px 1px 2px rgba(60, 64, 67, 0.3), 0px 1px 3px 1px rgba(60, 64, 67, 0.15);\n",
              "      fill: #174EA6;\n",
              "    }\n",
              "\n",
              "    [theme=dark] .colab-df-convert {\n",
              "      background-color: #3B4455;\n",
              "      fill: #D2E3FC;\n",
              "    }\n",
              "\n",
              "    [theme=dark] .colab-df-convert:hover {\n",
              "      background-color: #434B5C;\n",
              "      box-shadow: 0px 1px 3px 1px rgba(0, 0, 0, 0.15);\n",
              "      filter: drop-shadow(0px 1px 2px rgba(0, 0, 0, 0.3));\n",
              "      fill: #FFFFFF;\n",
              "    }\n",
              "  </style>\n",
              "\n",
              "      <script>\n",
              "        const buttonEl =\n",
              "          document.querySelector('#df-2f89a5dc-e2c1-429c-8e1c-9b45bf609f9c button.colab-df-convert');\n",
              "        buttonEl.style.display =\n",
              "          google.colab.kernel.accessAllowed ? 'block' : 'none';\n",
              "\n",
              "        async function convertToInteractive(key) {\n",
              "          const element = document.querySelector('#df-2f89a5dc-e2c1-429c-8e1c-9b45bf609f9c');\n",
              "          const dataTable =\n",
              "            await google.colab.kernel.invokeFunction('convertToInteractive',\n",
              "                                                     [key], {});\n",
              "          if (!dataTable) return;\n",
              "\n",
              "          const docLinkHtml = 'Like what you see? Visit the ' +\n",
              "            '<a target=\"_blank\" href=https://colab.research.google.com/notebooks/data_table.ipynb>data table notebook</a>'\n",
              "            + ' to learn more about interactive tables.';\n",
              "          element.innerHTML = '';\n",
              "          dataTable['output_type'] = 'display_data';\n",
              "          await google.colab.output.renderOutput(dataTable, element);\n",
              "          const docLink = document.createElement('div');\n",
              "          docLink.innerHTML = docLinkHtml;\n",
              "          element.appendChild(docLink);\n",
              "        }\n",
              "      </script>\n",
              "    </div>\n",
              "  </div>\n",
              "  "
            ]
          },
          "metadata": {},
          "execution_count": 16
        }
      ]
    },
    {
      "cell_type": "code",
      "source": [
        "df.Price.value_counts()"
      ],
      "metadata": {
        "colab": {
          "base_uri": "https://localhost:8080/"
        },
        "id": "9UwIf48Y6xFB",
        "outputId": "200cc45e-a7b7-41ef-f68f-ea2947334fb8"
      },
      "execution_count": null,
      "outputs": [
        {
          "output_type": "execute_result",
          "data": {
            "text/plain": [
              "450000    114\n",
              "350000    113\n",
              "400000    104\n",
              "375000    103\n",
              "550000    102\n",
              "         ... \n",
              "561600      1\n",
              "856500      1\n",
              "907687      1\n",
              "307999      1\n",
              "146000      1\n",
              "Name: Price, Length: 2901, dtype: int64"
            ]
          },
          "metadata": {},
          "execution_count": 17
        }
      ]
    },
    {
      "cell_type": "code",
      "source": [
        "x= df.drop(['Price'],axis =1)\n",
        "y = df.Price\n",
        "     "
      ],
      "metadata": {
        "id": "QxePBYgjRvA5"
      },
      "execution_count": null,
      "outputs": []
    },
    {
      "cell_type": "code",
      "source": [
        "y = le.fit_transform(y)"
      ],
      "metadata": {
        "id": "7zDK-RaYSCed"
      },
      "execution_count": null,
      "outputs": []
    },
    {
      "cell_type": "code",
      "source": [
        "y"
      ],
      "metadata": {
        "colab": {
          "base_uri": "https://localhost:8080/"
        },
        "id": "dCOxIccySEJW",
        "outputId": "5e9245fe-daa1-4a75-d15b-bbec90d2890f"
      },
      "execution_count": null,
      "outputs": [
        {
          "output_type": "execute_result",
          "data": {
            "text/plain": [
              "array([2849, 2768, 2748, ...,  241,  222,   60])"
            ]
          },
          "metadata": {},
          "execution_count": 20
        }
      ]
    },
    {
      "cell_type": "markdown",
      "source": [
        "# split the data (Training & Testing)"
      ],
      "metadata": {
        "id": "FuOMMTG-Swa3"
      }
    },
    {
      "cell_type": "code",
      "source": [
        "from sklearn.model_selection import train_test_split\n",
        "xtrain,xtest,ytrain,ytest = train_test_split(x,y,test_size = 0.2, random_state = 0)"
      ],
      "metadata": {
        "id": "ZN5-GH8-Sq5k"
      },
      "execution_count": null,
      "outputs": []
    },
    {
      "cell_type": "code",
      "source": [
        "xtrain.shape"
      ],
      "metadata": {
        "colab": {
          "base_uri": "https://localhost:8080/"
        },
        "id": "77TxEKnRS5Iy",
        "outputId": "58556dfc-aee7-418e-dbc6-ff673c11e07b"
      },
      "execution_count": null,
      "outputs": [
        {
          "output_type": "execute_result",
          "data": {
            "text/plain": [
              "(11696, 20)"
            ]
          },
          "metadata": {},
          "execution_count": 22
        }
      ]
    },
    {
      "cell_type": "code",
      "source": [
        "xtest.shape"
      ],
      "metadata": {
        "colab": {
          "base_uri": "https://localhost:8080/"
        },
        "id": "KHUv0Da7S7rq",
        "outputId": "bdaa290c-e21a-4acd-c216-d4267af3e567"
      },
      "execution_count": null,
      "outputs": [
        {
          "output_type": "execute_result",
          "data": {
            "text/plain": [
              "(2924, 20)"
            ]
          },
          "metadata": {},
          "execution_count": 23
        }
      ]
    },
    {
      "cell_type": "markdown",
      "source": [
        "#Build the ANN Model"
      ],
      "metadata": {
        "id": "trGKbuw28dl7"
      }
    },
    {
      "cell_type": "code",
      "source": [
        "from tensorflow.keras.models import Sequential\n",
        "from tensorflow.keras.layers import Dense\n",
        "\n",
        "# Initialising the ANN\n",
        "classifier = Sequential()\n",
        "\n",
        "# Adding the input layer and the first hidden layer\n",
        "classifier.add(Dense(units=128,activation = 'relu'))\n",
        "\n",
        "# Adding the second hidden layer\n",
        "classifier.add(Dense(units=64,activation = 'relu'))\n",
        "\n",
        "# Adding the output layer\n",
        "classifier.add(Dense(units=1, activation = 'sigmoid'))\n",
        "\n",
        "# Compiling the ANN\n",
        "classifier.compile(optimizer = 'adam', loss = 'binary_crossentropy', metrics = ['accuracy'])   "
      ],
      "metadata": {
        "id": "zDbWpzJdTOeR"
      },
      "execution_count": null,
      "outputs": []
    },
    {
      "cell_type": "code",
      "source": [
        "# compiling the ANN model\n",
        " \n",
        "classifier.compile(optimizer = 'adam',loss= 'mse',metrics = ['mse'])\n",
        "     \n"
      ],
      "metadata": {
        "id": "DobXZy1jTesh"
      },
      "execution_count": null,
      "outputs": []
    },
    {
      "cell_type": "markdown",
      "source": [
        "# Training the model"
      ],
      "metadata": {
        "id": "ZbF_9Icp8rjx"
      }
    },
    {
      "cell_type": "code",
      "source": [
        "classifier.fit(xtrain,ytrain,batch_size = 10,epochs = 100)"
      ],
      "metadata": {
        "colab": {
          "base_uri": "https://localhost:8080/"
        },
        "id": "3bmrOyTi7vxE",
        "outputId": "76649a81-3bd9-45d3-9b16-03e210ea7cb8"
      },
      "execution_count": null,
      "outputs": [
        {
          "output_type": "stream",
          "name": "stdout",
          "text": [
            "Epoch 1/100\n",
            "1170/1170 [==============================] - 4s 3ms/step - loss: 2581807.0000 - mse: 2581807.0000\n",
            "Epoch 2/100\n",
            "1170/1170 [==============================] - 3s 2ms/step - loss: 2581804.5000 - mse: 2581804.5000\n",
            "Epoch 3/100\n",
            "1170/1170 [==============================] - 2s 2ms/step - loss: 2581804.2500 - mse: 2581804.2500\n",
            "Epoch 4/100\n",
            "1170/1170 [==============================] - 3s 2ms/step - loss: 2581805.7500 - mse: 2581805.7500\n",
            "Epoch 5/100\n",
            "1170/1170 [==============================] - 2s 2ms/step - loss: 2581805.2500 - mse: 2581805.2500\n",
            "Epoch 6/100\n",
            "1170/1170 [==============================] - 4s 3ms/step - loss: 2581807.7500 - mse: 2581807.7500\n",
            "Epoch 7/100\n",
            "1170/1170 [==============================] - 3s 2ms/step - loss: 2581806.5000 - mse: 2581806.5000\n",
            "Epoch 8/100\n",
            "1170/1170 [==============================] - 2s 2ms/step - loss: 2581805.2500 - mse: 2581805.2500\n",
            "Epoch 9/100\n",
            "1170/1170 [==============================] - 2s 2ms/step - loss: 2581805.7500 - mse: 2581805.7500\n",
            "Epoch 10/100\n",
            "1170/1170 [==============================] - 2s 2ms/step - loss: 2581806.7500 - mse: 2581806.7500\n",
            "Epoch 11/100\n",
            "1170/1170 [==============================] - 3s 3ms/step - loss: 2581807.0000 - mse: 2581807.0000\n",
            "Epoch 12/100\n",
            "1170/1170 [==============================] - 3s 3ms/step - loss: 2581806.5000 - mse: 2581806.5000\n",
            "Epoch 13/100\n",
            "1170/1170 [==============================] - 2s 2ms/step - loss: 2581806.0000 - mse: 2581806.0000\n",
            "Epoch 14/100\n",
            "1170/1170 [==============================] - 2s 2ms/step - loss: 2581807.0000 - mse: 2581807.0000\n",
            "Epoch 15/100\n",
            "1170/1170 [==============================] - 2s 2ms/step - loss: 2581807.5000 - mse: 2581807.2500\n",
            "Epoch 16/100\n",
            "1170/1170 [==============================] - 3s 3ms/step - loss: 2581807.7500 - mse: 2581807.7500\n",
            "Epoch 17/100\n",
            "1170/1170 [==============================] - 3s 3ms/step - loss: 2581807.5000 - mse: 2581807.5000\n",
            "Epoch 18/100\n",
            "1170/1170 [==============================] - 2s 2ms/step - loss: 2581807.7500 - mse: 2581807.7500\n",
            "Epoch 19/100\n",
            "1170/1170 [==============================] - 2s 2ms/step - loss: 2581805.2500 - mse: 2581805.2500\n",
            "Epoch 20/100\n",
            "1170/1170 [==============================] - 2s 2ms/step - loss: 2581806.5000 - mse: 2581806.5000\n",
            "Epoch 21/100\n",
            "1170/1170 [==============================] - 3s 2ms/step - loss: 2581809.2500 - mse: 2581809.2500\n",
            "Epoch 22/100\n",
            "1170/1170 [==============================] - 3s 3ms/step - loss: 2581805.5000 - mse: 2581805.7500\n",
            "Epoch 23/100\n",
            "1170/1170 [==============================] - 2s 2ms/step - loss: 2581807.0000 - mse: 2581807.0000\n",
            "Epoch 24/100\n",
            "1170/1170 [==============================] - 2s 2ms/step - loss: 2581806.0000 - mse: 2581806.0000\n",
            "Epoch 25/100\n",
            "1170/1170 [==============================] - 2s 2ms/step - loss: 2581806.2500 - mse: 2581806.2500\n",
            "Epoch 26/100\n",
            "1170/1170 [==============================] - 2s 2ms/step - loss: 2581806.7500 - mse: 2581806.7500\n",
            "Epoch 27/100\n",
            "1170/1170 [==============================] - 4s 3ms/step - loss: 2581806.5000 - mse: 2581806.5000\n",
            "Epoch 28/100\n",
            "1170/1170 [==============================] - 3s 2ms/step - loss: 2581804.7500 - mse: 2581804.7500\n",
            "Epoch 29/100\n",
            "1170/1170 [==============================] - 2s 2ms/step - loss: 2581806.5000 - mse: 2581806.5000\n",
            "Epoch 30/100\n",
            "1170/1170 [==============================] - 2s 2ms/step - loss: 2581804.5000 - mse: 2581804.5000\n",
            "Epoch 31/100\n",
            "1170/1170 [==============================] - 2s 2ms/step - loss: 2581805.2500 - mse: 2581805.2500\n",
            "Epoch 32/100\n",
            "1170/1170 [==============================] - 3s 3ms/step - loss: 2581808.5000 - mse: 2581808.5000\n",
            "Epoch 33/100\n",
            "1170/1170 [==============================] - 3s 3ms/step - loss: 2581805.5000 - mse: 2581805.5000\n",
            "Epoch 34/100\n",
            "1170/1170 [==============================] - 2s 2ms/step - loss: 2581807.2500 - mse: 2581807.2500\n",
            "Epoch 35/100\n",
            "1170/1170 [==============================] - 2s 2ms/step - loss: 2581805.5000 - mse: 2581805.5000\n",
            "Epoch 36/100\n",
            "1170/1170 [==============================] - 2s 2ms/step - loss: 2581807.2500 - mse: 2581807.2500\n",
            "Epoch 37/100\n",
            "1170/1170 [==============================] - 3s 3ms/step - loss: 2581806.0000 - mse: 2581806.0000\n",
            "Epoch 38/100\n",
            "1170/1170 [==============================] - 3s 3ms/step - loss: 2581806.7500 - mse: 2581806.7500\n",
            "Epoch 39/100\n",
            "1170/1170 [==============================] - 2s 2ms/step - loss: 2581807.7500 - mse: 2581807.7500\n",
            "Epoch 40/100\n",
            "1170/1170 [==============================] - 2s 2ms/step - loss: 2581807.0000 - mse: 2581807.0000\n",
            "Epoch 41/100\n",
            "1170/1170 [==============================] - 2s 2ms/step - loss: 2581806.5000 - mse: 2581806.5000\n",
            "Epoch 42/100\n",
            "1170/1170 [==============================] - 3s 3ms/step - loss: 2581806.5000 - mse: 2581806.5000\n",
            "Epoch 43/100\n",
            "1170/1170 [==============================] - 3s 3ms/step - loss: 2581807.5000 - mse: 2581807.5000\n",
            "Epoch 44/100\n",
            "1170/1170 [==============================] - 2s 2ms/step - loss: 2581806.7500 - mse: 2581806.7500\n",
            "Epoch 45/100\n",
            "1170/1170 [==============================] - 2s 2ms/step - loss: 2581804.5000 - mse: 2581804.5000\n",
            "Epoch 46/100\n",
            "1170/1170 [==============================] - 2s 2ms/step - loss: 2581806.0000 - mse: 2581806.0000\n",
            "Epoch 47/100\n",
            "1170/1170 [==============================] - 3s 2ms/step - loss: 2581804.5000 - mse: 2581804.5000\n",
            "Epoch 48/100\n",
            "1170/1170 [==============================] - 4s 3ms/step - loss: 2581806.5000 - mse: 2581806.5000\n",
            "Epoch 49/100\n",
            "1170/1170 [==============================] - 2s 2ms/step - loss: 2581807.2500 - mse: 2581807.2500\n",
            "Epoch 50/100\n",
            "1170/1170 [==============================] - 2s 2ms/step - loss: 2581806.2500 - mse: 2581806.2500\n",
            "Epoch 51/100\n",
            "1170/1170 [==============================] - 2s 2ms/step - loss: 2581804.7500 - mse: 2581804.7500\n",
            "Epoch 52/100\n",
            "1170/1170 [==============================] - 2s 2ms/step - loss: 2581806.5000 - mse: 2581806.5000\n",
            "Epoch 53/100\n",
            "1170/1170 [==============================] - 4s 3ms/step - loss: 2581806.5000 - mse: 2581806.5000\n",
            "Epoch 54/100\n",
            "1170/1170 [==============================] - 3s 2ms/step - loss: 2581807.7500 - mse: 2581807.7500\n",
            "Epoch 55/100\n",
            "1170/1170 [==============================] - 2s 2ms/step - loss: 2581807.7500 - mse: 2581807.7500\n",
            "Epoch 56/100\n",
            "1170/1170 [==============================] - 2s 2ms/step - loss: 2581808.2500 - mse: 2581808.2500\n",
            "Epoch 57/100\n",
            "1170/1170 [==============================] - 2s 2ms/step - loss: 2581806.2500 - mse: 2581806.2500\n",
            "Epoch 58/100\n",
            "1170/1170 [==============================] - 4s 3ms/step - loss: 2581805.2500 - mse: 2581805.2500\n",
            "Epoch 59/100\n",
            "1170/1170 [==============================] - 3s 2ms/step - loss: 2581807.0000 - mse: 2581807.0000\n",
            "Epoch 60/100\n",
            "1170/1170 [==============================] - 2s 2ms/step - loss: 2581806.5000 - mse: 2581806.5000\n",
            "Epoch 61/100\n",
            "1170/1170 [==============================] - 2s 2ms/step - loss: 2581805.5000 - mse: 2581805.5000\n",
            "Epoch 62/100\n",
            "1170/1170 [==============================] - 2s 2ms/step - loss: 2581807.0000 - mse: 2581807.0000\n",
            "Epoch 63/100\n",
            "1170/1170 [==============================] - 3s 3ms/step - loss: 2581807.0000 - mse: 2581807.0000\n",
            "Epoch 64/100\n",
            "1170/1170 [==============================] - 3s 3ms/step - loss: 2581807.0000 - mse: 2581807.0000\n",
            "Epoch 65/100\n",
            "1170/1170 [==============================] - 2s 2ms/step - loss: 2581805.2500 - mse: 2581805.2500\n",
            "Epoch 66/100\n",
            "1170/1170 [==============================] - 2s 2ms/step - loss: 2581805.2500 - mse: 2581805.2500\n",
            "Epoch 67/100\n",
            "1170/1170 [==============================] - 3s 2ms/step - loss: 2581806.0000 - mse: 2581806.0000\n",
            "Epoch 68/100\n",
            "1170/1170 [==============================] - 3s 3ms/step - loss: 2581806.7500 - mse: 2581806.7500\n",
            "Epoch 69/100\n",
            "1170/1170 [==============================] - 3s 3ms/step - loss: 2581807.7500 - mse: 2581807.7500\n",
            "Epoch 70/100\n",
            "1170/1170 [==============================] - 2s 2ms/step - loss: 2581804.7500 - mse: 2581804.7500\n",
            "Epoch 71/100\n",
            "1170/1170 [==============================] - 2s 2ms/step - loss: 2581806.5000 - mse: 2581806.5000\n",
            "Epoch 72/100\n",
            "1170/1170 [==============================] - 2s 2ms/step - loss: 2581806.0000 - mse: 2581806.0000\n",
            "Epoch 73/100\n",
            "1170/1170 [==============================] - 3s 2ms/step - loss: 2581806.7500 - mse: 2581806.7500\n",
            "Epoch 74/100\n",
            "1170/1170 [==============================] - 4s 3ms/step - loss: 2581807.5000 - mse: 2581807.5000\n",
            "Epoch 75/100\n",
            "1170/1170 [==============================] - 2s 2ms/step - loss: 2581807.5000 - mse: 2581807.5000\n",
            "Epoch 76/100\n",
            "1170/1170 [==============================] - 3s 2ms/step - loss: 2581806.5000 - mse: 2581806.5000\n",
            "Epoch 77/100\n",
            "1170/1170 [==============================] - 2s 2ms/step - loss: 2581807.7500 - mse: 2581807.7500\n",
            "Epoch 78/100\n",
            "1170/1170 [==============================] - 2s 2ms/step - loss: 2581805.7500 - mse: 2581806.0000\n",
            "Epoch 79/100\n",
            "1170/1170 [==============================] - 4s 3ms/step - loss: 2581806.5000 - mse: 2581806.5000\n",
            "Epoch 80/100\n",
            "1170/1170 [==============================] - 3s 2ms/step - loss: 2581804.7500 - mse: 2581804.7500\n",
            "Epoch 81/100\n",
            "1170/1170 [==============================] - 2s 2ms/step - loss: 2581806.0000 - mse: 2581806.0000\n",
            "Epoch 82/100\n",
            "1170/1170 [==============================] - 2s 2ms/step - loss: 2581807.7500 - mse: 2581807.7500\n",
            "Epoch 83/100\n",
            "1170/1170 [==============================] - 2s 2ms/step - loss: 2581807.2500 - mse: 2581807.7500\n",
            "Epoch 84/100\n",
            "1170/1170 [==============================] - 3s 3ms/step - loss: 2581804.7500 - mse: 2581804.7500\n",
            "Epoch 85/100\n",
            "1170/1170 [==============================] - 3s 3ms/step - loss: 2581807.5000 - mse: 2581807.5000\n",
            "Epoch 86/100\n",
            "1170/1170 [==============================] - 2s 2ms/step - loss: 2581806.0000 - mse: 2581806.0000\n",
            "Epoch 87/100\n",
            "1170/1170 [==============================] - 2s 2ms/step - loss: 2581805.2500 - mse: 2581805.2500\n",
            "Epoch 88/100\n",
            "1170/1170 [==============================] - 2s 2ms/step - loss: 2581807.0000 - mse: 2581807.0000\n",
            "Epoch 89/100\n",
            "1170/1170 [==============================] - 3s 3ms/step - loss: 2581805.5000 - mse: 2581805.5000\n",
            "Epoch 90/100\n",
            "1170/1170 [==============================] - 3s 3ms/step - loss: 2581807.0000 - mse: 2581807.0000\n",
            "Epoch 91/100\n",
            "1170/1170 [==============================] - 2s 2ms/step - loss: 2581807.2500 - mse: 2581807.2500\n",
            "Epoch 92/100\n",
            "1170/1170 [==============================] - 2s 2ms/step - loss: 2581805.0000 - mse: 2581805.0000\n",
            "Epoch 93/100\n",
            "1170/1170 [==============================] - 2s 2ms/step - loss: 2581804.7500 - mse: 2581804.7500\n",
            "Epoch 94/100\n",
            "1170/1170 [==============================] - 3s 3ms/step - loss: 2581805.5000 - mse: 2581805.7500\n",
            "Epoch 95/100\n",
            "1170/1170 [==============================] - 4s 3ms/step - loss: 2581806.0000 - mse: 2581806.0000\n",
            "Epoch 96/100\n",
            "1170/1170 [==============================] - 2s 2ms/step - loss: 2581806.7500 - mse: 2581806.7500\n",
            "Epoch 97/100\n",
            "1170/1170 [==============================] - 2s 2ms/step - loss: 2581804.2500 - mse: 2581804.2500\n",
            "Epoch 98/100\n",
            "1170/1170 [==============================] - 2s 2ms/step - loss: 2581806.2500 - mse: 2581806.2500\n",
            "Epoch 99/100\n",
            "1170/1170 [==============================] - 3s 2ms/step - loss: 2581805.5000 - mse: 2581805.5000\n",
            "Epoch 100/100\n",
            "1170/1170 [==============================] - 4s 3ms/step - loss: 2581808.0000 - mse: 2581808.0000\n"
          ]
        },
        {
          "output_type": "execute_result",
          "data": {
            "text/plain": [
              "<keras.callbacks.History at 0x7f5aa2dfb340>"
            ]
          },
          "metadata": {},
          "execution_count": 68
        }
      ]
    },
    {
      "cell_type": "markdown",
      "source": [
        "# Testing the model"
      ],
      "metadata": {
        "id": "PAmRO5Bv87El"
      }
    },
    {
      "cell_type": "code",
      "source": [
        "y_pred = classifier.predict(xtest)"
      ],
      "metadata": {
        "colab": {
          "base_uri": "https://localhost:8080/"
        },
        "id": "PNArBMrN_tlo",
        "outputId": "3fc17c63-fbc5-4558-cc84-2d27400c2440"
      },
      "execution_count": null,
      "outputs": [
        {
          "output_type": "stream",
          "name": "stdout",
          "text": [
            "92/92 [==============================] - 0s 1ms/step\n"
          ]
        }
      ]
    },
    {
      "cell_type": "code",
      "source": [
        "pd.DataFrame({'Actual value':ytest.flatten(),'predicted value':y_pred.flatten().astype('int')}).head(20)"
      ],
      "metadata": {
        "colab": {
          "base_uri": "https://localhost:8080/",
          "height": 676
        },
        "id": "F560w1Go_6y_",
        "outputId": "0260bf60-5530-4acf-acdc-35e7287200cc"
      },
      "execution_count": null,
      "outputs": [
        {
          "output_type": "execute_result",
          "data": {
            "text/plain": [
              "    Actual value  predicted value\n",
              "0            487                1\n",
              "1           2744                1\n",
              "2           1176                1\n",
              "3           1700                1\n",
              "4           2058                1\n",
              "5            492                1\n",
              "6           2680                1\n",
              "7            446                1\n",
              "8           2777                1\n",
              "9            853                1\n",
              "10           345                1\n",
              "11           291                1\n",
              "12          1082                1\n",
              "13           621                1\n",
              "14          1422                1\n",
              "15           960                1\n",
              "16          1778                1\n",
              "17           520                1\n",
              "18           668                1\n",
              "19          2451                1"
            ],
            "text/html": [
              "\n",
              "  <div id=\"df-e41153dc-0ffa-4a28-9745-d323bae0fbc6\">\n",
              "    <div class=\"colab-df-container\">\n",
              "      <div>\n",
              "<style scoped>\n",
              "    .dataframe tbody tr th:only-of-type {\n",
              "        vertical-align: middle;\n",
              "    }\n",
              "\n",
              "    .dataframe tbody tr th {\n",
              "        vertical-align: top;\n",
              "    }\n",
              "\n",
              "    .dataframe thead th {\n",
              "        text-align: right;\n",
              "    }\n",
              "</style>\n",
              "<table border=\"1\" class=\"dataframe\">\n",
              "  <thead>\n",
              "    <tr style=\"text-align: right;\">\n",
              "      <th></th>\n",
              "      <th>Actual value</th>\n",
              "      <th>predicted value</th>\n",
              "    </tr>\n",
              "  </thead>\n",
              "  <tbody>\n",
              "    <tr>\n",
              "      <th>0</th>\n",
              "      <td>487</td>\n",
              "      <td>1</td>\n",
              "    </tr>\n",
              "    <tr>\n",
              "      <th>1</th>\n",
              "      <td>2744</td>\n",
              "      <td>1</td>\n",
              "    </tr>\n",
              "    <tr>\n",
              "      <th>2</th>\n",
              "      <td>1176</td>\n",
              "      <td>1</td>\n",
              "    </tr>\n",
              "    <tr>\n",
              "      <th>3</th>\n",
              "      <td>1700</td>\n",
              "      <td>1</td>\n",
              "    </tr>\n",
              "    <tr>\n",
              "      <th>4</th>\n",
              "      <td>2058</td>\n",
              "      <td>1</td>\n",
              "    </tr>\n",
              "    <tr>\n",
              "      <th>5</th>\n",
              "      <td>492</td>\n",
              "      <td>1</td>\n",
              "    </tr>\n",
              "    <tr>\n",
              "      <th>6</th>\n",
              "      <td>2680</td>\n",
              "      <td>1</td>\n",
              "    </tr>\n",
              "    <tr>\n",
              "      <th>7</th>\n",
              "      <td>446</td>\n",
              "      <td>1</td>\n",
              "    </tr>\n",
              "    <tr>\n",
              "      <th>8</th>\n",
              "      <td>2777</td>\n",
              "      <td>1</td>\n",
              "    </tr>\n",
              "    <tr>\n",
              "      <th>9</th>\n",
              "      <td>853</td>\n",
              "      <td>1</td>\n",
              "    </tr>\n",
              "    <tr>\n",
              "      <th>10</th>\n",
              "      <td>345</td>\n",
              "      <td>1</td>\n",
              "    </tr>\n",
              "    <tr>\n",
              "      <th>11</th>\n",
              "      <td>291</td>\n",
              "      <td>1</td>\n",
              "    </tr>\n",
              "    <tr>\n",
              "      <th>12</th>\n",
              "      <td>1082</td>\n",
              "      <td>1</td>\n",
              "    </tr>\n",
              "    <tr>\n",
              "      <th>13</th>\n",
              "      <td>621</td>\n",
              "      <td>1</td>\n",
              "    </tr>\n",
              "    <tr>\n",
              "      <th>14</th>\n",
              "      <td>1422</td>\n",
              "      <td>1</td>\n",
              "    </tr>\n",
              "    <tr>\n",
              "      <th>15</th>\n",
              "      <td>960</td>\n",
              "      <td>1</td>\n",
              "    </tr>\n",
              "    <tr>\n",
              "      <th>16</th>\n",
              "      <td>1778</td>\n",
              "      <td>1</td>\n",
              "    </tr>\n",
              "    <tr>\n",
              "      <th>17</th>\n",
              "      <td>520</td>\n",
              "      <td>1</td>\n",
              "    </tr>\n",
              "    <tr>\n",
              "      <th>18</th>\n",
              "      <td>668</td>\n",
              "      <td>1</td>\n",
              "    </tr>\n",
              "    <tr>\n",
              "      <th>19</th>\n",
              "      <td>2451</td>\n",
              "      <td>1</td>\n",
              "    </tr>\n",
              "  </tbody>\n",
              "</table>\n",
              "</div>\n",
              "      <button class=\"colab-df-convert\" onclick=\"convertToInteractive('df-e41153dc-0ffa-4a28-9745-d323bae0fbc6')\"\n",
              "              title=\"Convert this dataframe to an interactive table.\"\n",
              "              style=\"display:none;\">\n",
              "        \n",
              "  <svg xmlns=\"http://www.w3.org/2000/svg\" height=\"24px\"viewBox=\"0 0 24 24\"\n",
              "       width=\"24px\">\n",
              "    <path d=\"M0 0h24v24H0V0z\" fill=\"none\"/>\n",
              "    <path d=\"M18.56 5.44l.94 2.06.94-2.06 2.06-.94-2.06-.94-.94-2.06-.94 2.06-2.06.94zm-11 1L8.5 8.5l.94-2.06 2.06-.94-2.06-.94L8.5 2.5l-.94 2.06-2.06.94zm10 10l.94 2.06.94-2.06 2.06-.94-2.06-.94-.94-2.06-.94 2.06-2.06.94z\"/><path d=\"M17.41 7.96l-1.37-1.37c-.4-.4-.92-.59-1.43-.59-.52 0-1.04.2-1.43.59L10.3 9.45l-7.72 7.72c-.78.78-.78 2.05 0 2.83L4 21.41c.39.39.9.59 1.41.59.51 0 1.02-.2 1.41-.59l7.78-7.78 2.81-2.81c.8-.78.8-2.07 0-2.86zM5.41 20L4 18.59l7.72-7.72 1.47 1.35L5.41 20z\"/>\n",
              "  </svg>\n",
              "      </button>\n",
              "      \n",
              "  <style>\n",
              "    .colab-df-container {\n",
              "      display:flex;\n",
              "      flex-wrap:wrap;\n",
              "      gap: 12px;\n",
              "    }\n",
              "\n",
              "    .colab-df-convert {\n",
              "      background-color: #E8F0FE;\n",
              "      border: none;\n",
              "      border-radius: 50%;\n",
              "      cursor: pointer;\n",
              "      display: none;\n",
              "      fill: #1967D2;\n",
              "      height: 32px;\n",
              "      padding: 0 0 0 0;\n",
              "      width: 32px;\n",
              "    }\n",
              "\n",
              "    .colab-df-convert:hover {\n",
              "      background-color: #E2EBFA;\n",
              "      box-shadow: 0px 1px 2px rgba(60, 64, 67, 0.3), 0px 1px 3px 1px rgba(60, 64, 67, 0.15);\n",
              "      fill: #174EA6;\n",
              "    }\n",
              "\n",
              "    [theme=dark] .colab-df-convert {\n",
              "      background-color: #3B4455;\n",
              "      fill: #D2E3FC;\n",
              "    }\n",
              "\n",
              "    [theme=dark] .colab-df-convert:hover {\n",
              "      background-color: #434B5C;\n",
              "      box-shadow: 0px 1px 3px 1px rgba(0, 0, 0, 0.15);\n",
              "      filter: drop-shadow(0px 1px 2px rgba(0, 0, 0, 0.3));\n",
              "      fill: #FFFFFF;\n",
              "    }\n",
              "  </style>\n",
              "\n",
              "      <script>\n",
              "        const buttonEl =\n",
              "          document.querySelector('#df-e41153dc-0ffa-4a28-9745-d323bae0fbc6 button.colab-df-convert');\n",
              "        buttonEl.style.display =\n",
              "          google.colab.kernel.accessAllowed ? 'block' : 'none';\n",
              "\n",
              "        async function convertToInteractive(key) {\n",
              "          const element = document.querySelector('#df-e41153dc-0ffa-4a28-9745-d323bae0fbc6');\n",
              "          const dataTable =\n",
              "            await google.colab.kernel.invokeFunction('convertToInteractive',\n",
              "                                                     [key], {});\n",
              "          if (!dataTable) return;\n",
              "\n",
              "          const docLinkHtml = 'Like what you see? Visit the ' +\n",
              "            '<a target=\"_blank\" href=https://colab.research.google.com/notebooks/data_table.ipynb>data table notebook</a>'\n",
              "            + ' to learn more about interactive tables.';\n",
              "          element.innerHTML = '';\n",
              "          dataTable['output_type'] = 'display_data';\n",
              "          await google.colab.output.renderOutput(dataTable, element);\n",
              "          const docLink = document.createElement('div');\n",
              "          docLink.innerHTML = docLinkHtml;\n",
              "          element.appendChild(docLink);\n",
              "        }\n",
              "      </script>\n",
              "    </div>\n",
              "  </div>\n",
              "  "
            ]
          },
          "metadata": {},
          "execution_count": 70
        }
      ]
    },
    {
      "cell_type": "code",
      "source": [
        "print(len(ytest))\n",
        "print(len(y_pred))\n"
      ],
      "metadata": {
        "colab": {
          "base_uri": "https://localhost:8080/"
        },
        "id": "scFpZN8glDhR",
        "outputId": "49a617e1-d4e9-415a-a125-d52ed07f1d79"
      },
      "execution_count": null,
      "outputs": [
        {
          "output_type": "stream",
          "name": "stdout",
          "text": [
            "2924\n",
            "2924\n"
          ]
        }
      ]
    }
  ]
}